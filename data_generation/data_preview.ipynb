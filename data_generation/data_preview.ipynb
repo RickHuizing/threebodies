{
 "cells": [
  {
   "cell_type": "code",
   "execution_count": null,
   "metadata": {
    "collapsed": true
   },
   "outputs": [],
   "source": [
    "import numpy as np\n",
    "from matplotlib import pyplot as plt\n",
    "\n",
    "from data_generation import tbp_energy_calculations, Three_body_2D_Rick\n",
    "from data_generation import tbp_util"
   ]
  },
  {
   "cell_type": "code",
   "execution_count": null,
   "outputs": [],
   "source": [
    "# todo read from config file\n",
    "G = 1.0\n",
    "M = np.array([1.0, 1.0, 1.0])"
   ],
   "metadata": {
    "collapsed": false
   }
  },
  {
   "cell_type": "code",
   "execution_count": null,
   "outputs": [],
   "source": [
    "def visualize_dataset(x, y, vx, vy, down_sample_factor=100):\n",
    "    # down sample using slicing [start:stop:step]\n",
    "    x = x[::down_sample_factor]\n",
    "    y = y[::down_sample_factor]\n",
    "    vx = vx[::down_sample_factor]\n",
    "    vy = vy[::down_sample_factor]\n",
    "\n",
    "    energy = np.ndarray(dtype=float, shape=(x.shape[0], 3))\n",
    "    for i in range(energy.shape[0]):\n",
    "        locations = np.array([x[i], y[i]]).T\n",
    "        velocities = np.array([vx[i], vy[i]]).T\n",
    "\n",
    "        potential_energy, kinetic_energy, system_energy = \\\n",
    "            tbp_energy_calculations.energy_values(G, M, locations, velocities)\n",
    "        energy[i,] = [potential_energy, kinetic_energy, system_energy]\n",
    "    # energy = pd.DataFrame(energy, columns = [\"potential_energy\", \"kinetic_energy\", \"system_energy\"])\n",
    "    plt.figure()\n",
    "    plt.violinplot(energy)\n",
    "    plt.boxplot(energy)\n",
    "    plt.show()\n",
    "\n",
    "    plt.figure()\n",
    "    plt.plot(energy.T[0])\n",
    "    plt.plot(energy.T[1])\n",
    "    plt.plot(energy.T[2])\n",
    "    plt.legend([\"potential_energy\", \"kinetic_energy\", \"system_energy\"])\n",
    "    plt.show()\n",
    "\n",
    "    Three_body_2D_Rick.plot(x, y)\n"
   ],
   "metadata": {
    "collapsed": false
   }
  },
  {
   "cell_type": "code",
   "execution_count": null,
   "outputs": [],
   "source": [
    "for dataset, x, y, vx, vy in tbp_util.load_datasets(load_successful=False, load_unsuccessful=True, limit=100):\n",
    "    visualize_dataset(x, y, vx, vy)\n",
    "\n",
    "# visualize_dataset(*tbp_util.load_dataset(\"4\"))"
   ],
   "metadata": {
    "collapsed": false
   }
  },
  {
   "cell_type": "code",
   "execution_count": null,
   "outputs": [],
   "source": [
    "x, y, vx, vy = tbp_util.load_dataset(\"4\")\n",
    "np.random.choice(vx[0:10,0], 10, replace=False )"
   ],
   "metadata": {
    "collapsed": false
   }
  },
  {
   "cell_type": "code",
   "execution_count": null,
   "outputs": [],
   "source": [],
   "metadata": {
    "collapsed": false
   }
  },
  {
   "cell_type": "code",
   "execution_count": null,
   "outputs": [],
   "source": [
    "from tensorflow import keras\n",
    "\n",
    "keras.backend.set_floatx('float64')\n",
    "keras.backend.floatx()"
   ],
   "metadata": {
    "collapsed": false
   }
  },
  {
   "cell_type": "code",
   "execution_count": null,
   "outputs": [],
   "source": [
    "model = keras.Sequential([\n",
    "    keras.layers.Dense(64, activation=keras.activations.relu, input_shape=[12]),\n",
    "    keras.layers.Dense(64, activation=keras.activations.relu),\n",
    "    keras.layers.Dense(64, activation=keras.activations.relu),\n",
    "    keras.layers.Dense(64, activation=keras.activations.relu),\n",
    "    keras.layers.Dense(64, activation=keras.activations.relu),\n",
    "    keras.layers.Dense(64, activation=keras.activations.relu),\n",
    "    keras.layers.Dense(64, activation=keras.activations.relu),\n",
    "    keras.layers.Dense(12, activation=keras.activations.linear)\n",
    "])\n",
    "model.compile(\n",
    "    keras.optimizers.Adam(learning_rate=0.00001),\n",
    "    loss='mae',\n",
    "    metrics=['mae', 'mse']\n",
    ")"
   ],
   "metadata": {
    "collapsed": false
   }
  },
  {
   "cell_type": "code",
   "execution_count": null,
   "outputs": [],
   "source": [
    "x_train = np.ndarray((0, 12), dtype=np.float64)\n",
    "y_train = np.ndarray((0, 12), dtype=np.float64)\n",
    "\n",
    "for dataset, x, y, vx, vy in tbp_util.load_datasets(limit=100):\n",
    "    input_data = np.column_stack((x, y, vx, vy))\n",
    "    output_data = input_data.copy()\n",
    "\n",
    "    input_data = input_data[:-500:100, ]  # delete last 10\n",
    "    output_data = output_data[500::100, ]  # delete first 10\n",
    "\n",
    "    x_train = np.concatenate((x_train, input_data))\n",
    "    y_train = np.concatenate((y_train, output_data))\n"
   ],
   "metadata": {
    "collapsed": false
   }
  },
  {
   "cell_type": "code",
   "execution_count": null,
   "outputs": [],
   "source": [
    "x_train.shape"
   ],
   "metadata": {
    "collapsed": false
   }
  },
  {
   "cell_type": "code",
   "execution_count": null,
   "outputs": [],
   "source": [
    "tbp_util.load_dataset(\"4\")[0].shape"
   ],
   "metadata": {
    "collapsed": false
   }
  },
  {
   "cell_type": "code",
   "execution_count": null,
   "outputs": [],
   "source": [
    "history = model.fit(\n",
    "    x_train, y_train,\n",
    "    batch_size=256,\n",
    "    epochs=1024,\n",
    "    validation_split=0.1\n",
    ")"
   ],
   "metadata": {
    "collapsed": false
   }
  },
  {
   "cell_type": "code",
   "execution_count": null,
   "outputs": [],
   "source": [
    "x_train[0,]\n",
    "x_train.shape"
   ],
   "metadata": {
    "collapsed": false
   }
  },
  {
   "cell_type": "code",
   "execution_count": null,
   "outputs": [],
   "source": [
    "import math\n",
    "limit = 1500\n",
    "y_pred = np.zeros((limit, 12), dtype=np.float64)\n",
    "y_pred[0,] = x_train[219000,]\n",
    "\n",
    "for i in range(limit - 1):\n",
    "    prediction = model(y_pred[i,].reshape(1, 12), training=False).numpy()\n",
    "    y_pred[i + 1,] = prediction"
   ],
   "metadata": {
    "collapsed": false
   }
  },
  {
   "cell_type": "code",
   "execution_count": null,
   "outputs": [],
   "source": [
    "x, y, vx, vy = np.hsplit(y_pred, 4)\n",
    "# x, y, vx, vy = np.hsplit(x_train[:25000], 4)\n",
    "visualize_dataset(x, y, vx, vy, down_sample_factor=1)"
   ],
   "metadata": {
    "collapsed": false
   }
  },
  {
   "cell_type": "code",
   "execution_count": null,
   "outputs": [],
   "source": [
    "y_pred"
   ],
   "metadata": {
    "collapsed": false
   }
  },
  {
   "cell_type": "code",
   "execution_count": null,
   "outputs": [],
   "source": [],
   "metadata": {
    "collapsed": false
   }
  }
 ],
 "metadata": {
  "kernelspec": {
   "display_name": "Python 3",
   "language": "python",
   "name": "python3"
  },
  "language_info": {
   "codemirror_mode": {
    "name": "ipython",
    "version": 2
   },
   "file_extension": ".py",
   "mimetype": "text/x-python",
   "name": "python",
   "nbconvert_exporter": "python",
   "pygments_lexer": "ipython2",
   "version": "2.7.6"
  }
 },
 "nbformat": 4,
 "nbformat_minor": 0
}
