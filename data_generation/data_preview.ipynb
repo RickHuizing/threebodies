{
 "cells": [
  {
   "cell_type": "code",
   "execution_count": null,
   "metadata": {
    "collapsed": true
   },
   "outputs": [],
   "source": [
    "import numpy as np\n",
    "from matplotlib import pyplot as plt\n",
    "\n",
    "from data_generation import tbp_util\n",
    "from data_generation.tbp_energy_calculations import visualize_dataset"
   ]
  },
  {
   "cell_type": "code",
   "execution_count": null,
   "outputs": [],
   "source": [
    "from data_generation import matplotlib_style\n",
    "\n",
    "matplotlib_style.init_plt_style()"
   ],
   "metadata": {
    "collapsed": false
   }
  },
  {
   "cell_type": "code",
   "execution_count": null,
   "outputs": [],
   "source": [
    "# todo read from config file\n",
    "# also see tbp_util.py\n",
    "G = 1.0\n",
    "M = np.array([1.0, 1.0, 1.0])"
   ],
   "metadata": {
    "collapsed": false
   }
  },
  {
   "cell_type": "code",
   "execution_count": null,
   "outputs": [],
   "source": [
    "\n"
   ],
   "metadata": {
    "collapsed": false
   }
  },
  {
   "cell_type": "code",
   "execution_count": null,
   "outputs": [],
   "source": [
    "# for dataset, x, y, vx, vy in tbp_util.load_datasets(load_successful=False, load_unsuccessful=True, limit=1):\n",
    "#     visualize_dataset(x, y, vx, vy)\n",
    "#\n",
    "visualize_dataset(*tbp_util.load_dataset(\"15\"), G, M)"
   ],
   "metadata": {
    "collapsed": false
   }
  },
  {
   "cell_type": "code",
   "execution_count": null,
   "outputs": [],
   "source": [
    "x, y, vx, vy = tbp_util.load_dataset(\"50000\")\n",
    "x[0, :]"
   ],
   "metadata": {
    "collapsed": false
   }
  },
  {
   "cell_type": "code",
   "execution_count": null,
   "outputs": [],
   "source": [
    "y[0, :]"
   ],
   "metadata": {
    "collapsed": false
   }
  },
  {
   "cell_type": "code",
   "execution_count": null,
   "outputs": [],
   "source": [
    "dx = x[:-1] - x[1:,]\n",
    "dx = dx * 1000000\n",
    "plt.figure()\n",
    "plt.boxplot(dx, showfliers=False)\n",
    "plt.show()"
   ],
   "metadata": {
    "collapsed": false
   }
  },
  {
   "cell_type": "code",
   "execution_count": null,
   "outputs": [],
   "source": [
    "from tensorflow import keras\n",
    "\n",
    "keras.backend.set_floatx('float64')\n",
    "keras.backend.floatx()"
   ],
   "metadata": {
    "collapsed": false
   }
  },
  {
   "cell_type": "markdown",
   "source": [
    "Load training data"
   ],
   "metadata": {
    "collapsed": false
   }
  },
  {
   "cell_type": "code",
   "execution_count": null,
   "outputs": [],
   "source": [
    "x_train = np.ndarray((0, 12), dtype=np.float64)\n",
    "y_train = np.ndarray((0, 12), dtype=np.float64)\n",
    "\n",
    "for dataset, x, y, vx, vy in tbp_util.load_datasets(limit=100):\n",
    "    input_data = np.column_stack((x, y, vx, vy))\n",
    "    output_data = input_data.copy()\n",
    "\n",
    "    # predict 1000 samples into the future and delete 9/10 training examples to speed-up training\n",
    "    input_data = input_data[:-1000:10, ]\n",
    "    output_data = output_data[1000::10, ]\n",
    "\n",
    "    x_train = np.concatenate((x_train, input_data))\n",
    "    y_train = np.concatenate((y_train, output_data))\n"
   ],
   "metadata": {
    "collapsed": false
   }
  },
  {
   "cell_type": "markdown",
   "source": [
    "first training example **[ x1, x2, x3, y1, y2, y3, vx1, vx2, vx3, vy1, vy2, vy3 ]**\n",
    "first testing  example **[ x1', x2', x3', y1', y2', y3', vx1', vx2', vx3', vy1', vy2', vy3' ]**"
   ],
   "metadata": {
    "collapsed": false
   }
  },
  {
   "cell_type": "code",
   "execution_count": null,
   "outputs": [],
   "source": [
    "x_train[0,]"
   ],
   "metadata": {
    "collapsed": false
   }
  },
  {
   "cell_type": "code",
   "execution_count": null,
   "outputs": [],
   "source": [
    "y_train[0,]"
   ],
   "metadata": {
    "collapsed": false
   }
  },
  {
   "cell_type": "code",
   "execution_count": null,
   "outputs": [],
   "source": [],
   "metadata": {
    "collapsed": false
   }
  },
  {
   "cell_type": "code",
   "execution_count": null,
   "outputs": [],
   "source": [
    "batch_size = 256\n",
    "epochs = 256\n",
    "validation_split = 0.1\n",
    "steps_per_epoch = round((x_train.shape[0] * (1 - validation_split)) / batch_size)\n",
    "\n",
    "# try to keep it above 10^-8\n",
    "learning_rate_schedule = keras.optimizers.schedules.ExponentialDecay(\n",
    "    initial_learning_rate=0.001,\n",
    "    decay_rate=0.75,\n",
    "    decay_steps=steps_per_epoch * 10\n",
    ")\n",
    "plt.figure()\n",
    "plt.yscale('log')\n",
    "plt.plot([learning_rate_schedule(epoch * steps_per_epoch) for epoch in range(epochs)])\n",
    "plt.show()"
   ],
   "metadata": {
    "collapsed": false
   }
  },
  {
   "cell_type": "code",
   "execution_count": null,
   "outputs": [],
   "source": [
    "batch_size = 256\n",
    "epochs = 256\n",
    "validation_split = 0.1\n",
    "steps_per_epoch = round((x_train.shape[0] * (1 - validation_split)) / batch_size)\n",
    "\n",
    "boundaries = np.array([10]) * steps_per_epoch\n",
    "\n",
    "values = [0.0001, 0.00001]\n",
    "learning_rate_schedule = keras.optimizers.schedules.PiecewiseConstantDecay(boundaries.tolist(), values)\n",
    "plt.figure()\n",
    "plt.yscale('log')\n",
    "plt.plot([learning_rate_schedule(epoch * steps_per_epoch) for epoch in range(epochs)])\n",
    "plt.show()"
   ],
   "metadata": {
    "collapsed": false
   }
  },
  {
   "cell_type": "code",
   "execution_count": null,
   "outputs": [],
   "source": [
    "model = keras.Sequential([\n",
    "    keras.layers.Dense(64, activation=keras.activations.relu, input_shape=[12]),\n",
    "    keras.layers.Dense(64, activation=keras.activations.relu),\n",
    "    keras.layers.Dense(64, activation=keras.activations.relu),\n",
    "    keras.layers.Dense(64, activation=keras.activations.relu),\n",
    "    keras.layers.Dense(64, activation=keras.activations.relu),\n",
    "    keras.layers.Dense(64, activation=keras.activations.relu),\n",
    "    keras.layers.Dense(64, activation=keras.activations.relu),\n",
    "    keras.layers.Dense(12, activation=keras.activations.linear)\n",
    "])\n",
    "\n",
    "model.compile(\n",
    "    # keras.optimizers.Adam(learning_rate=learning_rate_schedule),\n",
    "    keras.optimizers.Adam(learning_rate=0.000001),\n",
    "    loss='mae',\n",
    "    metrics=['mae', 'mse']\n",
    ")"
   ],
   "metadata": {
    "collapsed": false
   }
  },
  {
   "cell_type": "code",
   "execution_count": null,
   "outputs": [],
   "source": [],
   "metadata": {
    "collapsed": false
   }
  },
  {
   "cell_type": "markdown",
   "source": [
    "X: 1.000000000\n",
    "Y: 1.000000001\n",
    "Y: 0.000000001 * 1_000_000"
   ],
   "metadata": {
    "collapsed": false
   }
  },
  {
   "cell_type": "code",
   "execution_count": null,
   "outputs": [],
   "source": [
    "hist_callback = keras.callbacks.History()\n",
    "callbacks = [\n",
    "    hist_callback\n",
    "]"
   ],
   "metadata": {
    "collapsed": false
   }
  },
  {
   "cell_type": "code",
   "execution_count": null,
   "outputs": [],
   "source": [
    "history = model.fit(\n",
    "    x_train, y_train,\n",
    "    batch_size=batch_size,\n",
    "    epochs=epochs,\n",
    "    validation_split=validation_split,\n",
    "    callbacks=callbacks\n",
    ")"
   ],
   "metadata": {
    "collapsed": false
   }
  },
  {
   "cell_type": "code",
   "execution_count": null,
   "outputs": [],
   "source": [
    "plt.figure()\n",
    "plt.plot(hist_callback.history['loss'])\n",
    "plt.show()"
   ],
   "metadata": {
    "collapsed": false
   }
  },
  {
   "cell_type": "code",
   "execution_count": null,
   "outputs": [],
   "source": [
    "dataset_to_predict = '20006'\n",
    "x, y, vx, vy = tbp_util.load_dataset(dataset_to_predict)\n",
    "print(x.shape)"
   ],
   "metadata": {
    "collapsed": false
   }
  },
  {
   "cell_type": "code",
   "execution_count": null,
   "outputs": [],
   "source": [
    "length_to_predict = 5000000\n",
    "x = x[0:length_to_predict, ]\n",
    "y = y[0:length_to_predict, ]\n",
    "vx = vx[0:length_to_predict, ]\n",
    "vy = vy[0:length_to_predict, ]\n",
    "visualize_dataset(x, y, vx, vy, 1000)"
   ],
   "metadata": {
    "collapsed": false
   }
  },
  {
   "cell_type": "code",
   "execution_count": null,
   "outputs": [],
   "source": [
    "\n",
    "limit = round(length_to_predict / 1000)\n",
    "limit = 1000\n",
    "y_pred = np.zeros((limit, 12), dtype=np.float64)\n",
    "y_pred[0,] = np.concatenate((x[0,], y[0,], vx[0,], vy[0,]))\n",
    "\n",
    "for i in range(limit - 1):\n",
    "    prediction = model(y_pred[i,].reshape(1, 12), training=False).numpy()\n",
    "    y_pred[i + 1,] = prediction"
   ],
   "metadata": {
    "collapsed": false
   }
  },
  {
   "cell_type": "code",
   "execution_count": null,
   "outputs": [],
   "source": [
    "x, y, vx, vy = np.hsplit(y_pred, 4)\n",
    "# x, y, vx, vy = np.hsplit(x_train[:25000], 4)\n",
    "visualize_dataset(x, y, vx, vy, down_sample_factor=1)"
   ],
   "metadata": {
    "collapsed": false
   }
  },
  {
   "cell_type": "code",
   "execution_count": null,
   "outputs": [],
   "source": [
    "visualize_dataset(*tbp_util.load_dataset('2'))"
   ],
   "metadata": {
    "collapsed": false
   }
  },
  {
   "cell_type": "code",
   "execution_count": null,
   "outputs": [],
   "source": [
    "model.save()"
   ],
   "metadata": {
    "collapsed": false
   }
  },
  {
   "cell_type": "code",
   "execution_count": null,
   "outputs": [],
   "source": [
    "for x in [\"h5\", \"keras\", \"tf\"]:\n",
    "    model.save(f\"model.{x}\", save_format=x)"
   ],
   "metadata": {
    "collapsed": false
   }
  },
  {
   "cell_type": "code",
   "execution_count": null,
   "outputs": [],
   "source": [
    "for x in [\"h5\", \"tf\"]:\n",
    "    model.save_weights(f\"model_weights.{x}\", save_format=x)"
   ],
   "metadata": {
    "collapsed": false
   }
  },
  {
   "cell_type": "code",
   "execution_count": null,
   "outputs": [],
   "source": [
    "model.load_weights(\"model_weights.h5\")"
   ],
   "metadata": {
    "collapsed": false
   }
  },
  {
   "cell_type": "code",
   "execution_count": null,
   "outputs": [],
   "source": [],
   "metadata": {
    "collapsed": false
   }
  },
  {
   "cell_type": "code",
   "execution_count": null,
   "outputs": [],
   "source": [],
   "metadata": {
    "collapsed": false
   }
  }
 ],
 "metadata": {
  "kernelspec": {
   "display_name": "Python 3",
   "language": "python",
   "name": "python3"
  },
  "language_info": {
   "codemirror_mode": {
    "name": "ipython",
    "version": 2
   },
   "file_extension": ".py",
   "mimetype": "text/x-python",
   "name": "python",
   "nbconvert_exporter": "python",
   "pygments_lexer": "ipython2",
   "version": "2.7.6"
  }
 },
 "nbformat": 4,
 "nbformat_minor": 0
}
